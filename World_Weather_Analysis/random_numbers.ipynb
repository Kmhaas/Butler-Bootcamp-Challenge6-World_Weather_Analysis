{
 "cells": [
  {
   "cell_type": "code",
   "execution_count": 10,
   "id": "9b7b0db0",
   "metadata": {},
   "outputs": [],
   "source": [
    "# Import the random module.\n",
    "import random"
   ]
  },
  {
   "cell_type": "code",
   "execution_count": 11,
   "id": "bb68742d",
   "metadata": {},
   "outputs": [
    {
     "data": {
      "text/plain": [
       "49"
      ]
     },
     "execution_count": 11,
     "metadata": {},
     "output_type": "execute_result"
    }
   ],
   "source": [
    "random.randint(-90,90)"
   ]
  },
  {
   "cell_type": "code",
   "execution_count": 15,
   "id": "16bad6a2",
   "metadata": {},
   "outputs": [
    {
     "data": {
      "text/plain": [
       "-61.63049733418881"
      ]
     },
     "execution_count": 15,
     "metadata": {},
     "output_type": "execute_result"
    }
   ],
   "source": [
    "random_number = random.randint(-90,89) + random.random()\n",
    "random_number"
   ]
  },
  {
   "cell_type": "code",
   "execution_count": 16,
   "id": "63cf6d00",
   "metadata": {},
   "outputs": [],
   "source": [
    "x = 1\n",
    "latitudes = []\n",
    "while x < 11:\n",
    "    random_lat = random.randint(-90, 89) + random.random()\n",
    "    latitudes.append(random_lat)\n",
    "    x += 1"
   ]
  },
  {
   "cell_type": "code",
   "execution_count": 18,
   "id": "ce0e85f3",
   "metadata": {},
   "outputs": [
    {
     "data": {
      "text/plain": [
       "[-26.658776982974135,\n",
       " -88.86843349809459,\n",
       " -66.27133158159091,\n",
       " -34.9432348213043,\n",
       " 21.819273806132188,\n",
       " 39.755456902403054,\n",
       " 9.087474716237725,\n",
       " 74.91232472378688,\n",
       " -74.11199198188005,\n",
       " -68.50920634154906]"
      ]
     },
     "execution_count": 18,
     "metadata": {},
     "output_type": "execute_result"
    }
   ],
   "source": [
    "latitudes"
   ]
  },
  {
   "cell_type": "code",
   "execution_count": 19,
   "id": "a5786d81",
   "metadata": {},
   "outputs": [
    {
     "data": {
      "text/plain": [
       "51"
      ]
     },
     "execution_count": 19,
     "metadata": {},
     "output_type": "execute_result"
    }
   ],
   "source": [
    "random.randrange(-90, 90, step=1)"
   ]
  },
  {
   "cell_type": "code",
   "execution_count": 20,
   "id": "ed17bc48",
   "metadata": {},
   "outputs": [
    {
     "data": {
      "text/plain": [
       "-48"
      ]
     },
     "execution_count": 20,
     "metadata": {},
     "output_type": "execute_result"
    }
   ],
   "source": [
    "random.randrange(-90, 90, step=3)"
   ]
  },
  {
   "cell_type": "code",
   "execution_count": 21,
   "id": "b6b46d2c",
   "metadata": {},
   "outputs": [
    {
     "data": {
      "text/plain": [
       "-7.450015872051594"
      ]
     },
     "execution_count": 21,
     "metadata": {},
     "output_type": "execute_result"
    }
   ],
   "source": [
    "random.uniform(-90,90)"
   ]
  },
  {
   "cell_type": "code",
   "execution_count": 22,
   "id": "e8d89dba",
   "metadata": {},
   "outputs": [],
   "source": [
    "# Import the NumPy module.\n",
    "import numpy as np"
   ]
  },
  {
   "cell_type": "code",
   "execution_count": 23,
   "id": "aeee29f3",
   "metadata": {},
   "outputs": [
    {
     "data": {
      "text/plain": [
       "84.36877734091595"
      ]
     },
     "execution_count": 23,
     "metadata": {},
     "output_type": "execute_result"
    }
   ],
   "source": [
    "np.random.uniform(-90.000, 90.000)"
   ]
  },
  {
   "cell_type": "code",
   "execution_count": 24,
   "id": "b6a55f22",
   "metadata": {},
   "outputs": [
    {
     "data": {
      "text/plain": [
       "array([-75.05419273, -33.43299239, -45.3196471 , -23.38333126,\n",
       "        31.07515824, -59.05108557,  49.39193776, -37.37535817,\n",
       "       -27.41443426,  51.98993778,  41.28297861, -23.08925394,\n",
       "        33.31204208,  35.57853265,  63.72492161, -19.40554968,\n",
       "        -7.88994838, -26.8042131 ,   8.10551798, -35.26896517,\n",
       "         2.94661043, -66.10302207, -61.70658524,  16.02532021,\n",
       "       -62.82530041,   0.19631176,  47.39193223,  76.80601836,\n",
       "        85.61503685, -32.4638918 , -45.61743387, -84.60179331,\n",
       "        50.93032175,  -9.54982576,  15.41047973, -71.01451941,\n",
       "        -4.81096878, -28.58050913, -17.11155168,  72.34133424,\n",
       "       -74.57365906,  34.40506753,  -8.9338227 ,  81.56763169,\n",
       "       -61.49597777,   7.33534547,  80.44647217,  23.55532856,\n",
       "         4.34028124,  14.5921212 ])"
      ]
     },
     "execution_count": 24,
     "metadata": {},
     "output_type": "execute_result"
    }
   ],
   "source": [
    "np.random.uniform(-90.000, 90.000, size=50)"
   ]
  },
  {
   "cell_type": "code",
   "execution_count": 25,
   "id": "2a43d23e",
   "metadata": {},
   "outputs": [],
   "source": [
    "# Import timeit.\n",
    "import timeit"
   ]
  },
  {
   "cell_type": "code",
   "execution_count": 26,
   "id": "795fd821",
   "metadata": {},
   "outputs": [
    {
     "name": "stdout",
     "output_type": "stream",
     "text": [
      "14 µs ± 424 ns per loop (mean ± std. dev. of 7 runs, 100000 loops each)\n"
     ]
    }
   ],
   "source": [
    "%timeit np.random.uniform(-90.000, 90.000, size=1500)"
   ]
  },
  {
   "cell_type": "code",
   "execution_count": 27,
   "id": "a609a55c",
   "metadata": {},
   "outputs": [
    {
     "name": "stdout",
     "output_type": "stream",
     "text": [
      "1.59 ms ± 27.9 µs per loop (mean ± std. dev. of 7 runs, 1000 loops each)\n"
     ]
    }
   ],
   "source": [
    "def latitudes(size):\n",
    "    latitudes = []\n",
    "    x = 0\n",
    "    while x < (size):\n",
    "        random_lat = random.randint(-90, 90) + random.random()\n",
    "        latitudes.append(random_lat)\n",
    "        x += 1\n",
    "    return latitudes\n",
    "# Call the function with 1500.\n",
    "%timeit latitudes(1500)"
   ]
  },
  {
   "cell_type": "code",
   "execution_count": null,
   "id": "0f62af14",
   "metadata": {},
   "outputs": [],
   "source": []
  }
 ],
 "metadata": {
  "kernelspec": {
   "display_name": "PythonData",
   "language": "python",
   "name": "pythondata"
  },
  "language_info": {
   "codemirror_mode": {
    "name": "ipython",
    "version": 3
   },
   "file_extension": ".py",
   "mimetype": "text/x-python",
   "name": "python",
   "nbconvert_exporter": "python",
   "pygments_lexer": "ipython3",
   "version": "3.7.11"
  }
 },
 "nbformat": 4,
 "nbformat_minor": 5
}
